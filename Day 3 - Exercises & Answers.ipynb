{
 "cells": [
  {
   "cell_type": "code",
   "execution_count": 1,
   "id": "e15ef975",
   "metadata": {},
   "outputs": [
    {
     "name": "stdout",
     "output_type": "stream",
     "text": [
      "1 is 1: True\n",
      "1 is not 2: True\n"
     ]
    },
    {
     "name": "stderr",
     "output_type": "stream",
     "text": [
      "<>:1: SyntaxWarning: \"is\" with a literal. Did you mean \"==\"?\n",
      "<>:2: SyntaxWarning: \"is not\" with a literal. Did you mean \"!=\"?\n",
      "<>:1: SyntaxWarning: \"is\" with a literal. Did you mean \"==\"?\n",
      "<>:2: SyntaxWarning: \"is not\" with a literal. Did you mean \"!=\"?\n",
      "C:\\Users\\Dell\\AppData\\Local\\Temp\\ipykernel_4144\\1890804887.py:1: SyntaxWarning: \"is\" with a literal. Did you mean \"==\"?\n",
      "  print('1 is 1:', 1 is 1)\n",
      "C:\\Users\\Dell\\AppData\\Local\\Temp\\ipykernel_4144\\1890804887.py:2: SyntaxWarning: \"is not\" with a literal. Did you mean \"!=\"?\n",
      "  print('1 is not 2:', 1 is not 2)\n"
     ]
    }
   ],
   "source": [
    "print('1 is 1:', 1 is 1)\n",
    "print('1 is not 2:', 1 is not 2)"
   ]
  },
  {
   "cell_type": "code",
   "execution_count": 2,
   "id": "0b565902",
   "metadata": {},
   "outputs": [
    {
     "name": "stdout",
     "output_type": "stream",
     "text": [
      "1 == 1: True\n",
      "1 != 2: True\n"
     ]
    }
   ],
   "source": [
    "print('1 == 1:', 1 == 1)\n",
    "print('1 != 2:', 1 != 2)\n"
   ]
  },
  {
   "cell_type": "code",
   "execution_count": null,
   "id": "75f47a1f",
   "metadata": {},
   "outputs": [],
   "source": []
  }
 ],
 "metadata": {
  "kernelspec": {
   "display_name": "Python 3 (ipykernel)",
   "language": "python",
   "name": "python3"
  },
  "language_info": {
   "codemirror_mode": {
    "name": "ipython",
    "version": 3
   },
   "file_extension": ".py",
   "mimetype": "text/x-python",
   "name": "python",
   "nbconvert_exporter": "python",
   "pygments_lexer": "ipython3",
   "version": "3.11.4"
  }
 },
 "nbformat": 4,
 "nbformat_minor": 5
}
