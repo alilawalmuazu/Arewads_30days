{
 "cells": [
  {
   "cell_type": "markdown",
   "id": "9a17d42b",
   "metadata": {},
   "source": [
    "# Exercises: Day 16"
   ]
  },
  {
   "cell_type": "code",
   "execution_count": null,
   "id": "2d7c408f",
   "metadata": {},
   "outputs": [],
   "source": [
    "#1.Get the current day, month, year, hour, minute and timestamp from datetime module"
   ]
  },
  {
   "cell_type": "code",
   "execution_count": 1,
   "id": "06e55245",
   "metadata": {},
   "outputs": [
    {
     "name": "stdout",
     "output_type": "stream",
     "text": [
      "Current Day: 15\n",
      "Current Month: 12\n",
      "Current Year: 2023\n",
      "Current Hour: 14\n",
      "Current Minute: 27\n",
      "Timestamp: 1702646862.34586\n"
     ]
    }
   ],
   "source": [
    "from datetime import datetime\n",
    "\n",
    "# Get the current date and time\n",
    "now = datetime.now()\n",
    "\n",
    "# Extract individual components\n",
    "current_day = now.day\n",
    "current_month = now.month\n",
    "current_year = now.year\n",
    "current_hour = now.hour\n",
    "current_minute = now.minute\n",
    "\n",
    "# Get the timestamp\n",
    "timestamp = now.timestamp()\n",
    "\n",
    "# Print the results\n",
    "print(f\"Current Day: {current_day}\")\n",
    "print(f\"Current Month: {current_month}\")\n",
    "print(f\"Current Year: {current_year}\")\n",
    "print(f\"Current Hour: {current_hour}\")\n",
    "print(f\"Current Minute: {current_minute}\")\n",
    "print(f\"Timestamp: {timestamp}\")\n"
   ]
  },
  {
   "cell_type": "code",
   "execution_count": null,
   "id": "1e3b858f",
   "metadata": {},
   "outputs": [],
   "source": [
    "#2.Format the current date using this format: \"%m/%d/%Y, %H:%M:%S\")"
   ]
  },
  {
   "cell_type": "code",
   "execution_count": 2,
   "id": "ffa9d304",
   "metadata": {},
   "outputs": [
    {
     "name": "stdout",
     "output_type": "stream",
     "text": [
      "Formatted Date: 12/15/2023, 14:28:19\n"
     ]
    }
   ],
   "source": [
    "from datetime import datetime\n",
    "\n",
    "# Get the current date and time\n",
    "now = datetime.now()\n",
    "\n",
    "# Define the desired format\n",
    "date_format = \"%m/%d/%Y, %H:%M:%S\"\n",
    "\n",
    "# Format the current date\n",
    "formatted_date = now.strftime(date_format)\n",
    "\n",
    "# Print the formatted date\n",
    "print(f\"Formatted Date: {formatted_date}\")\n"
   ]
  },
  {
   "cell_type": "code",
   "execution_count": null,
   "id": "28675c33",
   "metadata": {},
   "outputs": [],
   "source": [
    "#3.Today is 5 December, 2019. Change this time string to time."
   ]
  },
  {
   "cell_type": "code",
   "execution_count": 3,
   "id": "6817308e",
   "metadata": {},
   "outputs": [
    {
     "name": "stdout",
     "output_type": "stream",
     "text": [
      "Converted Time: 2019-12-05 00:00:00\n"
     ]
    }
   ],
   "source": [
    "from datetime import datetime\n",
    "\n",
    "# Time string\n",
    "time_string = \"5 December, 2019\"\n",
    "\n",
    "# Define the format of the time string\n",
    "time_format = \"%d %B, %Y\"\n",
    "\n",
    "# Convert the time string to a datetime object\n",
    "converted_time = datetime.strptime(time_string, time_format)\n",
    "\n",
    "# Print the result\n",
    "print(\"Converted Time:\", converted_time)\n"
   ]
  },
  {
   "cell_type": "code",
   "execution_count": null,
   "id": "0d12f007",
   "metadata": {},
   "outputs": [],
   "source": [
    "#4.Calculate the time difference between now and new year."
   ]
  },
  {
   "cell_type": "code",
   "execution_count": 4,
   "id": "07246f68",
   "metadata": {},
   "outputs": [
    {
     "name": "stdout",
     "output_type": "stream",
     "text": [
      "Time difference until New Year: 16 days, 9:30:31.307948\n"
     ]
    }
   ],
   "source": [
    "from datetime import datetime, timedelta\n",
    "\n",
    "# Get the current date and time\n",
    "now = datetime.now()\n",
    "\n",
    "# Set the target date (New Year)\n",
    "new_year = datetime(now.year + 1, 1, 1)\n",
    "\n",
    "# Calculate the time difference\n",
    "time_difference = new_year - now\n",
    "\n",
    "# Print the result\n",
    "print(f\"Time difference until New Year: {time_difference}\")\n"
   ]
  },
  {
   "cell_type": "code",
   "execution_count": null,
   "id": "f3a0e682",
   "metadata": {},
   "outputs": [],
   "source": [
    "#5.Calculate the time difference between 1 January 1970 and now."
   ]
  },
  {
   "cell_type": "code",
   "execution_count": 5,
   "id": "8ec3c4a5",
   "metadata": {},
   "outputs": [
    {
     "name": "stdout",
     "output_type": "stream",
     "text": [
      "Time difference since January 1, 1970: 19706 days, 14:30:09.677625\n"
     ]
    }
   ],
   "source": [
    "from datetime import datetime\n",
    "\n",
    "# Get the current date and time\n",
    "now = datetime.now()\n",
    "\n",
    "# Set the start date (Unix epoch: January 1, 1970)\n",
    "epoch_start = datetime(1970, 1, 1)\n",
    "\n",
    "# Calculate the time difference\n",
    "time_difference = now - epoch_start\n",
    "\n",
    "# Print the result\n",
    "print(f\"Time difference since January 1, 1970: {time_difference}\")\n"
   ]
  },
  {
   "cell_type": "code",
   "execution_count": null,
   "id": "3341dce0",
   "metadata": {},
   "outputs": [],
   "source": [
    "#6.Think, what can you use the datetime module for? Examples: "
   ]
  },
  {
   "cell_type": "code",
   "execution_count": null,
   "id": "3c971310",
   "metadata": {},
   "outputs": [],
   "source": [
    "#Time series analysis"
   ]
  },
  {
   "cell_type": "code",
   "execution_count": 10,
   "id": "e9cc679d",
   "metadata": {},
   "outputs": [
    {
     "data": {
      "text/plain": [
       "DatetimeIndex(['2023-01-01', '2023-01-02', '2023-01-03', '2023-01-04',\n",
       "               '2023-01-05', '2023-01-06', '2023-01-07', '2023-01-08',\n",
       "               '2023-01-09', '2023-01-10'],\n",
       "              dtype='datetime64[ns]', freq='D')"
      ]
     },
     "execution_count": 10,
     "metadata": {},
     "output_type": "execute_result"
    }
   ],
   "source": [
    "import pandas as pd\n",
    "from datetime import datetime\n",
    "\n",
    "# Creating a time series DataFrame with datetime index\n",
    "date_rng = pd.date_range(start='2023-01-01', end='2023-01-10', freq='D')\n",
    "time_series_data = pd.DataFrame(date_rng, columns=['date'])\n",
    "date_rng \n",
    "#time_series_data"
   ]
  },
  {
   "cell_type": "code",
   "execution_count": 11,
   "id": "fc19a6ca",
   "metadata": {},
   "outputs": [
    {
     "data": {
      "text/html": [
       "<div>\n",
       "<style scoped>\n",
       "    .dataframe tbody tr th:only-of-type {\n",
       "        vertical-align: middle;\n",
       "    }\n",
       "\n",
       "    .dataframe tbody tr th {\n",
       "        vertical-align: top;\n",
       "    }\n",
       "\n",
       "    .dataframe thead th {\n",
       "        text-align: right;\n",
       "    }\n",
       "</style>\n",
       "<table border=\"1\" class=\"dataframe\">\n",
       "  <thead>\n",
       "    <tr style=\"text-align: right;\">\n",
       "      <th></th>\n",
       "      <th>date</th>\n",
       "    </tr>\n",
       "  </thead>\n",
       "  <tbody>\n",
       "    <tr>\n",
       "      <th>0</th>\n",
       "      <td>2023-01-01</td>\n",
       "    </tr>\n",
       "    <tr>\n",
       "      <th>1</th>\n",
       "      <td>2023-01-02</td>\n",
       "    </tr>\n",
       "    <tr>\n",
       "      <th>2</th>\n",
       "      <td>2023-01-03</td>\n",
       "    </tr>\n",
       "    <tr>\n",
       "      <th>3</th>\n",
       "      <td>2023-01-04</td>\n",
       "    </tr>\n",
       "    <tr>\n",
       "      <th>4</th>\n",
       "      <td>2023-01-05</td>\n",
       "    </tr>\n",
       "    <tr>\n",
       "      <th>5</th>\n",
       "      <td>2023-01-06</td>\n",
       "    </tr>\n",
       "    <tr>\n",
       "      <th>6</th>\n",
       "      <td>2023-01-07</td>\n",
       "    </tr>\n",
       "    <tr>\n",
       "      <th>7</th>\n",
       "      <td>2023-01-08</td>\n",
       "    </tr>\n",
       "    <tr>\n",
       "      <th>8</th>\n",
       "      <td>2023-01-09</td>\n",
       "    </tr>\n",
       "    <tr>\n",
       "      <th>9</th>\n",
       "      <td>2023-01-10</td>\n",
       "    </tr>\n",
       "  </tbody>\n",
       "</table>\n",
       "</div>"
      ],
      "text/plain": [
       "        date\n",
       "0 2023-01-01\n",
       "1 2023-01-02\n",
       "2 2023-01-03\n",
       "3 2023-01-04\n",
       "4 2023-01-05\n",
       "5 2023-01-06\n",
       "6 2023-01-07\n",
       "7 2023-01-08\n",
       "8 2023-01-09\n",
       "9 2023-01-10"
      ]
     },
     "execution_count": 11,
     "metadata": {},
     "output_type": "execute_result"
    }
   ],
   "source": [
    "time_series_data"
   ]
  },
  {
   "cell_type": "code",
   "execution_count": null,
   "id": "6a8923ed",
   "metadata": {},
   "outputs": [],
   "source": [
    "#To get a timestamp of any activities in an application"
   ]
  },
  {
   "cell_type": "code",
   "execution_count": 13,
   "id": "68f92c9d",
   "metadata": {},
   "outputs": [
    {
     "ename": "SyntaxError",
     "evalue": "invalid syntax (958990191.py, line 1)",
     "output_type": "error",
     "traceback": [
      "\u001b[1;36m  Cell \u001b[1;32mIn[13], line 1\u001b[1;36m\u001b[0m\n\u001b[1;33m    Adding posts on a blog\u001b[0m\n\u001b[1;37m           ^\u001b[0m\n\u001b[1;31mSyntaxError\u001b[0m\u001b[1;31m:\u001b[0m invalid syntax\n"
     ]
    }
   ],
   "source": [
    "Adding posts on a blog\n",
    "from datetime import datetime\n",
    "\n",
    "# Get the current date and time as a timestamp\n",
    "timestamp = datetime.now().timestamp()\n",
    "\n",
    "# Print or use the timestamp in your application\n",
    "print(f\"Activity timestamp: {timestamp}\")\n"
   ]
  },
  {
   "cell_type": "code",
   "execution_count": 14,
   "id": "e6ed388a",
   "metadata": {},
   "outputs": [
    {
     "name": "stdout",
     "output_type": "stream",
     "text": [
      "New post added: 'Introduction to Python' on 2023-12-15 14:34:13.161585\n",
      "New post added: 'Data Visualization with Matplotlib' on 2023-12-15 14:34:13.161585\n",
      "New post added: 'Web Development with Flask' on 2023-12-15 14:34:13.161585\n",
      "Introduction to Python (Posted on 2023-12-15 14:34:13.161585)\n",
      "Python is a versatile programming language.\n",
      "\n",
      "Data Visualization with Matplotlib (Posted on 2023-12-15 14:34:13.161585)\n",
      "Learn how to create stunning visualizations.\n",
      "\n",
      "Web Development with Flask (Posted on 2023-12-15 14:34:13.161585)\n",
      "Building web applications using Flask.\n",
      "\n"
     ]
    }
   ],
   "source": [
    "from datetime import datetime\n",
    "\n",
    "class BlogPost:\n",
    "    def __init__(self, title, content):\n",
    "        self.title = title\n",
    "        self.content = content\n",
    "        self.timestamp = datetime.now()\n",
    "\n",
    "def add_post(title, content, blog):\n",
    "    new_post = BlogPost(title, content)\n",
    "    blog.append(new_post)\n",
    "    print(f\"New post added: '{title}' on {new_post.timestamp}\")\n",
    "\n",
    "# Example of using the functions\n",
    "blog = []\n",
    "\n",
    "add_post(\"Introduction to Python\", \"Python is a versatile programming language.\", blog)\n",
    "add_post(\"Data Visualization with Matplotlib\", \"Learn how to create stunning visualizations.\", blog)\n",
    "add_post(\"Web Development with Flask\", \"Building web applications using Flask.\", blog)\n",
    "\n",
    "# Print all posts with their timestamps\n",
    "for post in blog:\n",
    "    print(f\"{post.title} (Posted on {post.timestamp})\\n{post.content}\\n\")\n"
   ]
  },
  {
   "cell_type": "code",
   "execution_count": null,
   "id": "8a18f1b5",
   "metadata": {},
   "outputs": [],
   "source": []
  }
 ],
 "metadata": {
  "kernelspec": {
   "display_name": "Python 3 (ipykernel)",
   "language": "python",
   "name": "python3"
  },
  "language_info": {
   "codemirror_mode": {
    "name": "ipython",
    "version": 3
   },
   "file_extension": ".py",
   "mimetype": "text/x-python",
   "name": "python",
   "nbconvert_exporter": "python",
   "pygments_lexer": "ipython3",
   "version": "3.11.4"
  }
 },
 "nbformat": 4,
 "nbformat_minor": 5
}
