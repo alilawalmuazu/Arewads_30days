{
 "cells": [
  {
   "cell_type": "code",
   "execution_count": 1,
   "id": "1cf93848",
   "metadata": {},
   "outputs": [],
   "source": [
    "import my\n"
   ]
  },
  {
   "cell_type": "code",
   "execution_count": 3,
   "id": "191ad533",
   "metadata": {},
   "outputs": [
    {
     "name": "stdout",
     "output_type": "stream",
     "text": [
      "Hello\n"
     ]
    }
   ],
   "source": [
    "my.greet(\"Aliyu\")"
   ]
  },
  {
   "cell_type": "code",
   "execution_count": null,
   "id": "3d1884d4",
   "metadata": {},
   "outputs": [],
   "source": []
  }
 ],
 "metadata": {
  "kernelspec": {
   "display_name": "Python 3 (ipykernel)",
   "language": "python",
   "name": "python3"
  },
  "language_info": {
   "codemirror_mode": {
    "name": "ipython",
    "version": 3
   },
   "file_extension": ".py",
   "mimetype": "text/x-python",
   "name": "python",
   "nbconvert_exporter": "python",
   "pygments_lexer": "ipython3",
   "version": "3.11.4"
  }
 },
 "nbformat": 4,
 "nbformat_minor": 5
}
