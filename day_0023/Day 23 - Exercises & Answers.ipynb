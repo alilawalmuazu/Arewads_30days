{
 "cells": [
  {
   "cell_type": "markdown",
   "id": "3b96fb1d",
   "metadata": {},
   "source": [
    "# Exercises: Day 23"
   ]
  },
  {
   "cell_type": "code",
   "execution_count": null,
   "id": "78673d31",
   "metadata": {},
   "outputs": [],
   "source": [
    "#To create a project directory with a virtual environment based on the provided example, you can follow these steps:"
   ]
  },
  {
   "cell_type": "code",
   "execution_count": null,
   "id": "0c3a346a",
   "metadata": {},
   "outputs": [],
   "source": [
    "#1.Open your terminal or command prompt."
   ]
  },
  {
   "cell_type": "code",
   "execution_count": null,
   "id": "8d93bf11",
   "metadata": {},
   "outputs": [],
   "source": [
    "#2.Navigate to the desired location where you want to create your project directory. For example:"
   ]
  },
  {
   "cell_type": "code",
   "execution_count": null,
   "id": "77f3baa1",
   "metadata": {},
   "outputs": [],
   "source": [
    "# For Mac/Linux\n",
    "cd ~/Desktop\n",
    "\n",
    "# For Windows\n",
    "cd C:\\Users\\User\\Documents\n"
   ]
  },
  {
   "cell_type": "code",
   "execution_count": null,
   "id": "4909133b",
   "metadata": {},
   "outputs": [],
   "source": [
    "#3.Create a new directory for your project, for example, \"flask_project\":"
   ]
  },
  {
   "cell_type": "code",
   "execution_count": null,
   "id": "5b500900",
   "metadata": {},
   "outputs": [],
   "source": [
    "mkdir flask_project\n"
   ]
  },
  {
   "cell_type": "code",
   "execution_count": null,
   "id": "53389f93",
   "metadata": {},
   "outputs": [],
   "source": [
    "#4.Move into the newly created project directory:"
   ]
  },
  {
   "cell_type": "code",
   "execution_count": null,
   "id": "da1c0f95",
   "metadata": {},
   "outputs": [],
   "source": [
    "cd flask_project\n"
   ]
  },
  {
   "cell_type": "code",
   "execution_count": null,
   "id": "be6313ea",
   "metadata": {},
   "outputs": [],
   "source": [
    "#5.Install the virtualenv package:"
   ]
  },
  {
   "cell_type": "code",
   "execution_count": null,
   "id": "d7b7b7af",
   "metadata": {},
   "outputs": [],
   "source": [
    "pip install virtualenv\n"
   ]
  },
  {
   "cell_type": "code",
   "execution_count": null,
   "id": "ccce3696",
   "metadata": {},
   "outputs": [],
   "source": [
    "#6.Create a virtual environment named \"venv\" in your project directory:"
   ]
  },
  {
   "cell_type": "code",
   "execution_count": null,
   "id": "87c7daca",
   "metadata": {},
   "outputs": [],
   "source": [
    "# For Mac/Linux\n",
    "virtualenv venv\n",
    "\n",
    "# For Windows\n",
    "python -m venv venv\n"
   ]
  },
  {
   "cell_type": "code",
   "execution_count": null,
   "id": "760ef0e7",
   "metadata": {},
   "outputs": [],
   "source": [
    "#7.Activate the virtual environment:"
   ]
  },
  {
   "cell_type": "code",
   "execution_count": null,
   "id": "86f96bfe",
   "metadata": {},
   "outputs": [],
   "source": [
    "# For Mac/Linux\n",
    "source venv/bin/activate\n",
    "\n",
    "# For Windows PowerShell\n",
    ".\\venv\\Scripts\\Activate\n",
    "\n",
    "# For Windows Git Bash\n",
    "source venv/Scripts/activate\n"
   ]
  },
  {
   "cell_type": "code",
   "execution_count": null,
   "id": "1e434846",
   "metadata": {},
   "outputs": [],
   "source": [
    "#8.After activation, your terminal prompt should change to indicate that the virtual environment is active. It will look something like this:"
   ]
  },
  {
   "cell_type": "code",
   "execution_count": null,
   "id": "60a7bc7d",
   "metadata": {},
   "outputs": [],
   "source": [
    "(venv) asabeneh@Asabeneh:~/Desktop/flask_project$\n"
   ]
  },
  {
   "cell_type": "code",
   "execution_count": null,
   "id": "5df04174",
   "metadata": {},
   "outputs": [],
   "source": [
    "#9.Now, install Flask within the virtual environment:"
   ]
  },
  {
   "cell_type": "code",
   "execution_count": null,
   "id": "f1e8ee45",
   "metadata": {},
   "outputs": [],
   "source": [
    "pip install Flask\n"
   ]
  },
  {
   "cell_type": "code",
   "execution_count": null,
   "id": "52283e76",
   "metadata": {},
   "outputs": [],
   "source": [
    "#10.Check the installed packages in your project:"
   ]
  },
  {
   "cell_type": "code",
   "execution_count": null,
   "id": "b5647c92",
   "metadata": {},
   "outputs": [],
   "source": [
    "pip freeze\n"
   ]
  },
  {
   "cell_type": "code",
   "execution_count": null,
   "id": "c34d4351",
   "metadata": {},
   "outputs": [],
   "source": [
    "#You should see something similar to the example provided:\n",
    "Click==7.0\n",
    "Flask==1.1.1\n",
    "itsdangerous==1.1.0\n",
    "Jinja2==2.10.3\n",
    "MarkupSafe==1.1.1\n",
    "Werkzeug==0.16.0\n"
   ]
  },
  {
   "cell_type": "code",
   "execution_count": null,
   "id": "a92971d1",
   "metadata": {},
   "outputs": [],
   "source": [
    "#11.To deactivate the virtual environment when you're done working on your project, run:\n",
    "deactivate\n"
   ]
  }
 ],
 "metadata": {
  "kernelspec": {
   "display_name": "Python 3 (ipykernel)",
   "language": "python",
   "name": "python3"
  },
  "language_info": {
   "codemirror_mode": {
    "name": "ipython",
    "version": 3
   },
   "file_extension": ".py",
   "mimetype": "text/x-python",
   "name": "python",
   "nbconvert_exporter": "python",
   "pygments_lexer": "ipython3",
   "version": "3.11.4"
  }
 },
 "nbformat": 4,
 "nbformat_minor": 5
}
